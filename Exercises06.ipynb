{
 "cells": [
  {
   "cell_type": "markdown",
   "metadata": {
    "id": "BJ0hvp2OPcHF"
   },
   "source": [
    "# Computational Astrophysics 2021\n",
    "---\n",
    "## Exercises 06\n",
    "\n",
    "Observatorio Astronómico Nacional\\\n",
    "Facultad de Ciencias\\\n",
    "Universidad Nacional de Colombia\n",
    "\n",
    "---"
   ]
  },
  {
   "cell_type": "markdown",
   "metadata": {
    "id": "yO85mmNxPcHN"
   },
   "source": [
    "## 01. Image Stacking\n",
    "\n",
    "The file rawsignals.txt contains synthetic data of signal + noise. The structure of the file is as follows\n",
    "\n",
    "Column 0: x-coordinate\n",
    "\n",
    "Columns 1-100: Flux density data of signal+noise\n",
    "\n",
    "---\n",
    "\n",
    "1. Read the data from file rawsignals.txt\n",
    "\n",
    "2. Recover the signal by making a mean stacking of the 100 profiles.\n",
    "\n",
    "3. Recover the signal by making a median stacking of the 100 profiles."
   ]
  },
  {
   "cell_type": "markdown",
   "metadata": {
    "id": "2xDKeVAb8Y2o"
   },
   "source": [
    "---\n",
    "\n",
    "## 02. Image of a Neutron Star\n",
    "\n",
    "In this exercise we will use the datafiles provided in the course *Data-Driven Astronomy* by the University of Sydney.\n",
    "\n",
    "https://www.coursera.org/learn/data-driven-astronomy\n",
    "\n",
    "\n",
    "The .fits images correspond to the images of a region of the sky in which a neutron star or pulsar have been observed. The 4 files can be downloaded from\n",
    "\n",
    "https://github.com/ashcat2005/data-driven-astronomy/tree/master/week1/data3\n",
    "\n",
    "\n",
    "---\n",
    "\n",
    "\n",
    "### Images of the .fits files"
   ]
  },
  {
   "cell_type": "code",
   "execution_count": null,
   "metadata": {},
   "outputs": [],
   "source": [
    "from matplotlib import pyplot as plt\n",
    "from astropy.io import fits\n",
    "import numpy as np\n",
    "%matplotlib inline"
   ]
  },
  {
   "cell_type": "markdown",
   "metadata": {},
   "source": [
    "The first image is"
   ]
  },
  {
   "cell_type": "code",
   "execution_count": null,
   "metadata": {},
   "outputs": [],
   "source": [
    "hdul = fits.open('data/image0.fits')"
   ]
  },
  {
   "cell_type": "markdown",
   "metadata": {},
   "source": [
    "The method `.info()` returns a summary of the content of the FITS file."
   ]
  },
  {
   "cell_type": "code",
   "execution_count": null,
   "metadata": {},
   "outputs": [],
   "source": [
    "hdul.info()"
   ]
  },
  {
   "cell_type": "markdown",
   "metadata": {},
   "source": [
    "The header of the primary HDU has the following information"
   ]
  },
  {
   "cell_type": "code",
   "execution_count": null,
   "metadata": {},
   "outputs": [],
   "source": [
    "hdul[0].header"
   ]
  },
  {
   "cell_type": "markdown",
   "metadata": {},
   "source": [
    "Now, lets see the data,"
   ]
  },
  {
   "cell_type": "code",
   "execution_count": null,
   "metadata": {},
   "outputs": [],
   "source": [
    "image_data = hdul[0].data\n",
    "hdul.close()\n",
    "image_data.shape"
   ]
  },
  {
   "cell_type": "code",
   "execution_count": null,
   "metadata": {},
   "outputs": [],
   "source": [
    "plt.figure()\n",
    "plt.imshow(image_data, cmap=plt.cm.viridis)\n",
    "plt.xlabel('x-pixels (RA)')\n",
    "plt.ylabel('y-pixels (Dec)')\n",
    "plt.colorbar()\n",
    "plt.show()"
   ]
  },
  {
   "cell_type": "markdown",
   "metadata": {},
   "source": [
    "### Image Mean Stacking \n",
    "\n",
    "1. Write a function that takes a list of FITS files (with the same dimensions) as an argument, reads them in, and returns the **mean** image data of the FITS files.  Your function should be able to process an arbitrary number of files. \n",
    "The mean stack of the .fits files used above will be a 200 x 200 array and the brightest pixel corresponds to the pulsar.\n",
    "\n",
    "2. Visualize the resulting image. Is the pulsar seen at the center of the image?\n",
    "\n",
    "3. Obtain the mean value corresponding to the brightest pixel."
   ]
  },
  {
   "cell_type": "markdown",
   "metadata": {},
   "source": [
    "### Image Median Stacking \n",
    "\n",
    "1. Now, write a function that takes a list of FITS files (with the same dimensions) as an argument, reads them in, and returns the **median** stacking of the FITS files.  Your function should be able to process an arbitrary number of files. \n",
    "\n",
    "2. Visualize the resulting image. Is the pulsar seen at the center of the image?\n",
    "\n",
    "3. Obtain the median value corresponding to the brightest pixel and compare it with the mean value obtained before."
   ]
  },
  {
   "cell_type": "code",
   "execution_count": null,
   "metadata": {},
   "outputs": [],
   "source": []
  }
 ],
 "metadata": {
  "colab": {
   "collapsed_sections": [],
   "name": "ImageStackingExercise.ipynb",
   "provenance": []
  },
  "kernelspec": {
   "display_name": "Python 3 (ipykernel)",
   "language": "python",
   "name": "python3"
  },
  "language_info": {
   "codemirror_mode": {
    "name": "ipython",
    "version": 3
   },
   "file_extension": ".py",
   "mimetype": "text/x-python",
   "name": "python",
   "nbconvert_exporter": "python",
   "pygments_lexer": "ipython3",
   "version": "3.9.7"
  }
 },
 "nbformat": 4,
 "nbformat_minor": 1
}
